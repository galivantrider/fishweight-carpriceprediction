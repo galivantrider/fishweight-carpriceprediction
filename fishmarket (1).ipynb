{
  "nbformat": 4,
  "nbformat_minor": 0,
  "metadata": {
    "colab": {
      "name": "fishmarket ",
      "provenance": [],
      "collapsed_sections": []
    },
    "kernelspec": {
      "display_name": "Python 3",
      "name": "python3"
    },
    "language_info": {
      "name": "python"
    }
  },
  "cells": [
    {
      "cell_type": "code",
      "metadata": {
        "id": "rcgbxtzWqvP-",
        "colab": {
          "base_uri": "https://localhost:8080/"
        },
        "outputId": "d04cf808-14de-4d38-ef8a-8bc3c595ea2a"
      },
      "source": [
        "from google.colab import drive\n",
        "drive.mount('/content/drive')"
      ],
      "execution_count": null,
      "outputs": [
        {
          "output_type": "stream",
          "text": [
            "Mounted at /content/drive\n"
          ],
          "name": "stdout"
        }
      ]
    },
    {
      "cell_type": "code",
      "metadata": {
        "colab": {
          "base_uri": "https://localhost:8080/"
        },
        "id": "BaUMEiRWSYlW",
        "outputId": "72090dbb-5fe9-4aef-dd4e-658cb0d1a237"
      },
      "source": [
        "import pandas as pd\n",
        "import numpy as np\n",
        "import matplotlib.pyplot as plt\n",
        "import statsmodels.api as sm\n",
        "import seaborn as sns\n",
        "from sklearn import datasets, linear_model, metrics\n",
        "from sklearn.metrics import mean_squared_error,r2_score\n",
        "from sklearn.model_selection import train_test_split \n",
        "%matplotlib inline\n",
        "\n",
        "path =\"/content/drive/MyDrive/Colab Notebooks/Fishd.csv\"\n",
        "df = pd.read_csv(path)\n",
        "\n",
        "df.describe"
      ],
      "execution_count": null,
      "outputs": [
        {
          "output_type": "execute_result",
          "data": {
            "text/plain": [
              "<bound method NDFrame.describe of            Species  Weight  Length1  Length2  Length3   Height   Width\n",
              "0    Rainbow Trout   245.0     23.2     25.4     30.0  11.5200  4.0200\n",
              "1    Rainbow Trout   290.0     24.0     26.3     31.2  12.4800  4.3056\n",
              "2    Rainbow Trout   335.0     23.9     26.5     31.1  12.3778  4.6961\n",
              "3    Rainbow Trout   380.0     26.3     29.0     33.5  12.7300  4.4555\n",
              "4    Rainbow Trout   425.0     26.5     29.0     34.0  12.4440  5.1340\n",
              "..             ...     ...      ...      ...      ...      ...     ...\n",
              "154    muskellunge  1777.0     11.5     12.2     13.4   2.0904  1.3936\n",
              "155    muskellunge  1778.0     11.7     12.4     13.5   2.4300  1.2690\n",
              "156    muskellunge  1777.0     12.1     13.0     13.8   2.2770  1.2558\n",
              "157    muskellunge  1778.0     13.2     14.3     15.2   2.8728  2.0672\n",
              "158    muskellunge  1777.0     13.8     15.0     16.2   2.9322  1.8792\n",
              "\n",
              "[159 rows x 7 columns]>"
            ]
          },
          "metadata": {},
          "execution_count": 36
        }
      ]
    },
    {
      "cell_type": "code",
      "metadata": {
        "id": "qwpoPut4C0-M",
        "colab": {
          "base_uri": "https://localhost:8080/",
          "height": 363
        },
        "outputId": "521fa89c-21c4-4394-cf3f-7e70fa71a8ba"
      },
      "source": [
        "data = pd.read_csv(\"/content/drive/MyDrive/Colab Notebooks/Fishd.csv\")\n",
        "data.head(10)"
      ],
      "execution_count": null,
      "outputs": [
        {
          "output_type": "execute_result",
          "data": {
            "text/html": [
              "<div>\n",
              "<style scoped>\n",
              "    .dataframe tbody tr th:only-of-type {\n",
              "        vertical-align: middle;\n",
              "    }\n",
              "\n",
              "    .dataframe tbody tr th {\n",
              "        vertical-align: top;\n",
              "    }\n",
              "\n",
              "    .dataframe thead th {\n",
              "        text-align: right;\n",
              "    }\n",
              "</style>\n",
              "<table border=\"1\" class=\"dataframe\">\n",
              "  <thead>\n",
              "    <tr style=\"text-align: right;\">\n",
              "      <th></th>\n",
              "      <th>Species</th>\n",
              "      <th>Weight</th>\n",
              "      <th>Length1</th>\n",
              "      <th>Length2</th>\n",
              "      <th>Length3</th>\n",
              "      <th>Height</th>\n",
              "      <th>Width</th>\n",
              "    </tr>\n",
              "  </thead>\n",
              "  <tbody>\n",
              "    <tr>\n",
              "      <th>0</th>\n",
              "      <td>Rainbow Trout</td>\n",
              "      <td>245.0</td>\n",
              "      <td>23.200000</td>\n",
              "      <td>25.4</td>\n",
              "      <td>30.0</td>\n",
              "      <td>11.5200</td>\n",
              "      <td>4.0200</td>\n",
              "    </tr>\n",
              "    <tr>\n",
              "      <th>1</th>\n",
              "      <td>Rainbow Trout</td>\n",
              "      <td>290.0</td>\n",
              "      <td>24.000000</td>\n",
              "      <td>26.3</td>\n",
              "      <td>31.2</td>\n",
              "      <td>12.4800</td>\n",
              "      <td>4.3056</td>\n",
              "    </tr>\n",
              "    <tr>\n",
              "      <th>2</th>\n",
              "      <td>Rainbow Trout</td>\n",
              "      <td>335.0</td>\n",
              "      <td>23.900000</td>\n",
              "      <td>26.5</td>\n",
              "      <td>31.1</td>\n",
              "      <td>12.3778</td>\n",
              "      <td>4.6961</td>\n",
              "    </tr>\n",
              "    <tr>\n",
              "      <th>3</th>\n",
              "      <td>Rainbow Trout</td>\n",
              "      <td>380.0</td>\n",
              "      <td>26.300000</td>\n",
              "      <td>29.0</td>\n",
              "      <td>33.5</td>\n",
              "      <td>12.7300</td>\n",
              "      <td>4.4555</td>\n",
              "    </tr>\n",
              "    <tr>\n",
              "      <th>4</th>\n",
              "      <td>Rainbow Trout</td>\n",
              "      <td>425.0</td>\n",
              "      <td>26.500000</td>\n",
              "      <td>29.0</td>\n",
              "      <td>34.0</td>\n",
              "      <td>12.4440</td>\n",
              "      <td>5.1340</td>\n",
              "    </tr>\n",
              "    <tr>\n",
              "      <th>5</th>\n",
              "      <td>Rainbow Trout</td>\n",
              "      <td>470.0</td>\n",
              "      <td>26.800000</td>\n",
              "      <td>29.7</td>\n",
              "      <td>34.7</td>\n",
              "      <td>13.6024</td>\n",
              "      <td>4.9274</td>\n",
              "    </tr>\n",
              "    <tr>\n",
              "      <th>6</th>\n",
              "      <td>Rainbow Trout</td>\n",
              "      <td>515.0</td>\n",
              "      <td>27.900000</td>\n",
              "      <td>29.7</td>\n",
              "      <td>34.5</td>\n",
              "      <td>14.1795</td>\n",
              "      <td>5.2785</td>\n",
              "    </tr>\n",
              "    <tr>\n",
              "      <th>7</th>\n",
              "      <td>Rainbow Trout</td>\n",
              "      <td>560.0</td>\n",
              "      <td>28.703810</td>\n",
              "      <td>30.0</td>\n",
              "      <td>35.0</td>\n",
              "      <td>12.6700</td>\n",
              "      <td>4.6900</td>\n",
              "    </tr>\n",
              "    <tr>\n",
              "      <th>8</th>\n",
              "      <td>Rainbow Trout</td>\n",
              "      <td>605.0</td>\n",
              "      <td>29.500952</td>\n",
              "      <td>30.0</td>\n",
              "      <td>35.1</td>\n",
              "      <td>14.0049</td>\n",
              "      <td>4.8438</td>\n",
              "    </tr>\n",
              "    <tr>\n",
              "      <th>9</th>\n",
              "      <td>Rainbow Trout</td>\n",
              "      <td>650.0</td>\n",
              "      <td>30.298095</td>\n",
              "      <td>30.7</td>\n",
              "      <td>36.2</td>\n",
              "      <td>14.2266</td>\n",
              "      <td>4.9594</td>\n",
              "    </tr>\n",
              "  </tbody>\n",
              "</table>\n",
              "</div>"
            ],
            "text/plain": [
              "         Species  Weight    Length1  Length2  Length3   Height   Width\n",
              "0  Rainbow Trout   245.0  23.200000     25.4     30.0  11.5200  4.0200\n",
              "1  Rainbow Trout   290.0  24.000000     26.3     31.2  12.4800  4.3056\n",
              "2  Rainbow Trout   335.0  23.900000     26.5     31.1  12.3778  4.6961\n",
              "3  Rainbow Trout   380.0  26.300000     29.0     33.5  12.7300  4.4555\n",
              "4  Rainbow Trout   425.0  26.500000     29.0     34.0  12.4440  5.1340\n",
              "5  Rainbow Trout   470.0  26.800000     29.7     34.7  13.6024  4.9274\n",
              "6  Rainbow Trout   515.0  27.900000     29.7     34.5  14.1795  5.2785\n",
              "7  Rainbow Trout   560.0  28.703810     30.0     35.0  12.6700  4.6900\n",
              "8  Rainbow Trout   605.0  29.500952     30.0     35.1  14.0049  4.8438\n",
              "9  Rainbow Trout   650.0  30.298095     30.7     36.2  14.2266  4.9594"
            ]
          },
          "metadata": {},
          "execution_count": 3
        }
      ]
    },
    {
      "cell_type": "code",
      "metadata": {
        "colab": {
          "base_uri": "https://localhost:8080/"
        },
        "id": "x13OBBqCEY_Z",
        "outputId": "86bf6acc-1eee-476b-e9bc-d28716768394"
      },
      "source": [
        "data.isnull().sum(axis = 0)\n",
        "data.shape"
      ],
      "execution_count": null,
      "outputs": [
        {
          "output_type": "execute_result",
          "data": {
            "text/plain": [
              "(159, 7)"
            ]
          },
          "metadata": {},
          "execution_count": 4
        }
      ]
    },
    {
      "cell_type": "code",
      "metadata": {
        "colab": {
          "base_uri": "https://localhost:8080/",
          "height": 265
        },
        "id": "jk8LQHTJEhxi",
        "outputId": "1652c483-48bc-4a03-eeb0-a3108b30675d"
      },
      "source": [
        "plt.scatter(data['Length1'],data['Weight'])\n",
        "plt.show()\n",
        "#not-linear"
      ],
      "execution_count": null,
      "outputs": [
        {
          "output_type": "display_data",
          "data": {
            "image/png": "[encoded data removed]",
            "text/plain": [
              "<Figure size 432x288 with 1 Axes>"
            ]
          },
          "metadata": {
            "needs_background": "light"
          }
        }
      ]
    },
    {
      "cell_type": "code",
      "metadata": {
        "colab": {
          "base_uri": "https://localhost:8080/",
          "height": 296
        },
        "id": "r6kV_AUREnzR",
        "outputId": "ffbcb540-800e-407f-d089-ab5c7c5a7cd5"
      },
      "source": [
        "sns.histplot(data['Length1'], bins=20)"
      ],
      "execution_count": null,
      "outputs": [
        {
          "output_type": "execute_result",
          "data": {
            "text/plain": [
              "<matplotlib.axes._subplots.AxesSubplot at 0x7f47247fa890>"
            ]
          },
          "metadata": {},
          "execution_count": 13
        },
        {
          "output_type": "display_data",
          "data": {
            "image/png": "[encoded data removed]",
            "text/plain": [
              "<Figure size 432x288 with 1 Axes>"
            ]
          },
          "metadata": {
            "needs_background": "light"
          }
        }
      ]
    },
    {
      "cell_type": "code",
      "metadata": {
        "colab": {
          "base_uri": "https://localhost:8080/",
          "height": 265
        },
        "id": "yhUXfkLpEy0o",
        "outputId": "5216a6c1-dd48-4f4e-b099-66c2375cada2"
      },
      "source": [
        "plt.scatter(data['Length2'],data['Weight'])\n",
        "plt.show()\n",
        "#not-linear"
      ],
      "execution_count": null,
      "outputs": [
        {
          "output_type": "display_data",
          "data": {
            "image/png": "[encoded data removed]",
            "text/plain": [
              "<Figure size 432x288 with 1 Axes>"
            ]
          },
          "metadata": {
            "needs_background": "light"
          }
        }
      ]
    },
    {
      "cell_type": "code",
      "metadata": {
        "colab": {
          "base_uri": "https://localhost:8080/",
          "height": 265
        },
        "id": "dyuFKoynE0MH",
        "outputId": "f30743a9-7911-43b6-d3ea-a0525a95e0fb"
      },
      "source": [
        "plt.scatter(data['Length3'],data['Weight'])\n",
        "plt.show()"
      ],
      "execution_count": null,
      "outputs": [
        {
          "output_type": "display_data",
          "data": {
            "image/png": "[encoded data removed]",
            "text/plain": [
              "<Figure size 432x288 with 1 Axes>"
            ]
          },
          "metadata": {
            "needs_background": "light"
          }
        }
      ]
    },
    {
      "cell_type": "code",
      "metadata": {
        "colab": {
          "base_uri": "https://localhost:8080/",
          "height": 296
        },
        "id": "z-gzmvCpE4CL",
        "outputId": "d293ac90-18e6-45a0-f126-cf6a728db2b4"
      },
      "source": [
        "sns.histplot(data['Length3'], bins=20)"
      ],
      "execution_count": null,
      "outputs": [
        {
          "output_type": "execute_result",
          "data": {
            "text/plain": [
              "<matplotlib.axes._subplots.AxesSubplot at 0x7f4721aa6e10>"
            ]
          },
          "metadata": {},
          "execution_count": 16
        },
        {
          "output_type": "display_data",
          "data": {
            "image/png": "[encoded data removed]",
            "text/plain": [
              "<Figure size 432x288 with 1 Axes>"
            ]
          },
          "metadata": {
            "needs_background": "light"
          }
        }
      ]
    },
    {
      "cell_type": "code",
      "metadata": {
        "colab": {
          "base_uri": "https://localhost:8080/",
          "height": 265
        },
        "id": "GFX_eCkkE7qa",
        "outputId": "b155c604-f0f1-471a-bb3e-c267083ef94d"
      },
      "source": [
        "plt.scatter(data['Height'],data['Weight'])\n",
        "plt.show()"
      ],
      "execution_count": null,
      "outputs": [
        {
          "output_type": "display_data",
          "data": {
            "image/png": "[encoded data removed]",
            "text/plain": [
              "<Figure size 432x288 with 1 Axes>"
            ]
          },
          "metadata": {
            "needs_background": "light"
          }
        }
      ]
    },
    {
      "cell_type": "code",
      "metadata": {
        "colab": {
          "base_uri": "https://localhost:8080/",
          "height": 296
        },
        "id": "yWjDVMedFHCo",
        "outputId": "48ac9285-45db-4f35-cd68-ab367cd28fed"
      },
      "source": [
        "sns.histplot(data['Height'], bins=20)"
      ],
      "execution_count": null,
      "outputs": [
        {
          "output_type": "execute_result",
          "data": {
            "text/plain": [
              "<matplotlib.axes._subplots.AxesSubplot at 0x7f4721927d50>"
            ]
          },
          "metadata": {},
          "execution_count": 18
        },
        {
          "output_type": "display_data",
          "data": {
            "image/png": "[encoded data removed]",
            "text/plain": [
              "<Figure size 432x288 with 1 Axes>"
            ]
          },
          "metadata": {
            "needs_background": "light"
          }
        }
      ]
    },
    {
      "cell_type": "code",
      "metadata": {
        "colab": {
          "base_uri": "https://localhost:8080/",
          "height": 265
        },
        "id": "2snnMXK6FTMZ",
        "outputId": "ed3fd5de-28de-4f75-bb45-db0cd26c6775"
      },
      "source": [
        "plt.scatter(data['Width'],data['Weight'])\n",
        "plt.show()"
      ],
      "execution_count": null,
      "outputs": [
        {
          "output_type": "display_data",
          "data": {
            "image/png": "[encoded data removed]",
            "text/plain": [
              "<Figure size 432x288 with 1 Axes>"
            ]
          },
          "metadata": {
            "needs_background": "light"
          }
        }
      ]
    },
    {
      "cell_type": "code",
      "metadata": {
        "colab": {
          "base_uri": "https://localhost:8080/",
          "height": 265
        },
        "id": "ct8wLTFRFeSI",
        "outputId": "8191db47-6956-47ae-b90f-c06a44ae9c7e"
      },
      "source": [
        "data['WidthSquared']=data['Width']**2\n",
        "plt.scatter(data['WidthSquared'],data['Weight'])\n",
        "plt.show()"
      ],
      "execution_count": null,
      "outputs": [
        {
          "output_type": "display_data",
          "data": {
            "image/png": "[encoded data removed]",
            "text/plain": [
              "<Figure size 432x288 with 1 Axes>"
            ]
          },
          "metadata": {
            "needs_background": "light"
          }
        }
      ]
    },
    {
      "cell_type": "code",
      "metadata": {
        "colab": {
          "base_uri": "https://localhost:8080/",
          "height": 265
        },
        "id": "fV7G1M0JFkQx",
        "outputId": "65a31812-b1d1-4212-8a9e-4abec4be3caf"
      },
      "source": [
        "data['Length1Squared']=data['Length1']**2\n",
        "plt.scatter(data['Length1Squared'],data['Weight'])\n",
        "plt.show()"
      ],
      "execution_count": null,
      "outputs": [
        {
          "output_type": "display_data",
          "data": {
            "image/png": "[encoded data removed]",
            "text/plain": [
              "<Figure size 432x288 with 1 Axes>"
            ]
          },
          "metadata": {
            "needs_background": "light"
          }
        }
      ]
    },
    {
      "cell_type": "code",
      "metadata": {
        "colab": {
          "base_uri": "https://localhost:8080/",
          "height": 265
        },
        "id": "uPavhT62Fz6N",
        "outputId": "02f71ee5-ef94-4a47-aac4-ce358e0dfe65"
      },
      "source": [
        "data['Length2Squared']=data['Length2']**2\n",
        "plt.scatter(data['Length2Squared'],data['Weight'])\n",
        "plt.show()"
      ],
      "execution_count": null,
      "outputs": [
        {
          "output_type": "display_data",
          "data": {
            "image/png": "[encoded data removed]",
            "text/plain": [
              "<Figure size 432x288 with 1 Axes>"
            ]
          },
          "metadata": {
            "needs_background": "light"
          }
        }
      ]
    },
    {
      "cell_type": "code",
      "metadata": {
        "id": "aXf8Hh5MF_YK",
        "colab": {
          "base_uri": "https://localhost:8080/",
          "height": 265
        },
        "outputId": "97298d08-2739-475e-dcfd-016aaa15c611"
      },
      "source": [
        "data['Length3Squared']=data['Length3']**2\n",
        "plt.scatter(data['Length3Squared'],data['Weight'])\n",
        "plt.show()"
      ],
      "execution_count": null,
      "outputs": [
        {
          "output_type": "display_data",
          "data": {
            "image/png": "[encoded data removed]",
            "text/plain": [
              "<Figure size 432x288 with 1 Axes>"
            ]
          },
          "metadata": {
            "needs_background": "light"
          }
        }
      ]
    },
    {
      "cell_type": "code",
      "metadata": {
        "id": "5JQA68RYGQQw",
        "colab": {
          "base_uri": "https://localhost:8080/",
          "height": 265
        },
        "outputId": "001c9987-b14a-4f73-9fc8-142446d39b0d"
      },
      "source": [
        "data['HeightSquared']=data['Height']**2\n",
        "plt.scatter(data['HeightSquared'],data['Weight'])\n",
        "plt.show()\n",
        "#showsHeteroscedasticity"
      ],
      "execution_count": null,
      "outputs": [
        {
          "output_type": "display_data",
          "data": {
            "image/png": "[encoded data removed]",
            "text/plain": [
              "<Figure size 432x288 with 1 Axes>"
            ]
          },
          "metadata": {
            "needs_background": "light"
          }
        }
      ]
    },
    {
      "cell_type": "code",
      "metadata": {
        "colab": {
          "base_uri": "https://localhost:8080/",
          "height": 414
        },
        "id": "ZJ29LHAKG3eP",
        "outputId": "d0333ee4-2b0e-45d4-b3c4-41e1baef9f69"
      },
      "source": [
        "data.corr()\n",
        "#remove Length1 & Length2 i.e Highly Correlated"
      ],
      "execution_count": null,
      "outputs": [
        {
          "output_type": "execute_result",
          "data": {
            "text/html": [
              "<div>\n",
              "<style scoped>\n",
              "    .dataframe tbody tr th:only-of-type {\n",
              "        vertical-align: middle;\n",
              "    }\n",
              "\n",
              "    .dataframe tbody tr th {\n",
              "        vertical-align: top;\n",
              "    }\n",
              "\n",
              "    .dataframe thead th {\n",
              "        text-align: right;\n",
              "    }\n",
              "</style>\n",
              "<table border=\"1\" class=\"dataframe\">\n",
              "  <thead>\n",
              "    <tr style=\"text-align: right;\">\n",
              "      <th></th>\n",
              "      <th>Weight</th>\n",
              "      <th>Length1</th>\n",
              "      <th>Length2</th>\n",
              "      <th>Length3</th>\n",
              "      <th>Height</th>\n",
              "      <th>Width</th>\n",
              "      <th>WidthSquared</th>\n",
              "      <th>Length1Squared</th>\n",
              "      <th>Length2Squared</th>\n",
              "      <th>Length3Squared</th>\n",
              "      <th>HeightSquared</th>\n",
              "    </tr>\n",
              "  </thead>\n",
              "  <tbody>\n",
              "    <tr>\n",
              "      <th>Weight</th>\n",
              "      <td>1.000000</td>\n",
              "      <td>0.380629</td>\n",
              "      <td>0.258586</td>\n",
              "      <td>0.280078</td>\n",
              "      <td>0.286272</td>\n",
              "      <td>0.187936</td>\n",
              "      <td>0.325975</td>\n",
              "      <td>0.482760</td>\n",
              "      <td>0.345760</td>\n",
              "      <td>0.375002</td>\n",
              "      <td>0.430172</td>\n",
              "    </tr>\n",
              "    <tr>\n",
              "      <th>Length1</th>\n",
              "      <td>0.380629</td>\n",
              "      <td>1.000000</td>\n",
              "      <td>0.960991</td>\n",
              "      <td>0.975891</td>\n",
              "      <td>0.765935</td>\n",
              "      <td>0.868838</td>\n",
              "      <td>0.835691</td>\n",
              "      <td>0.978550</td>\n",
              "      <td>0.918785</td>\n",
              "      <td>0.947227</td>\n",
              "      <td>0.719366</td>\n",
              "    </tr>\n",
              "    <tr>\n",
              "      <th>Length2</th>\n",
              "      <td>0.258586</td>\n",
              "      <td>0.960991</td>\n",
              "      <td>1.000000</td>\n",
              "      <td>0.994103</td>\n",
              "      <td>0.640441</td>\n",
              "      <td>0.873547</td>\n",
              "      <td>0.839335</td>\n",
              "      <td>0.930723</td>\n",
              "      <td>0.971139</td>\n",
              "      <td>0.974802</td>\n",
              "      <td>0.548747</td>\n",
              "    </tr>\n",
              "    <tr>\n",
              "      <th>Length3</th>\n",
              "      <td>0.280078</td>\n",
              "      <td>0.975891</td>\n",
              "      <td>0.994103</td>\n",
              "      <td>1.000000</td>\n",
              "      <td>0.703409</td>\n",
              "      <td>0.878520</td>\n",
              "      <td>0.837635</td>\n",
              "      <td>0.942890</td>\n",
              "      <td>0.956824</td>\n",
              "      <td>0.972963</td>\n",
              "      <td>0.618901</td>\n",
              "    </tr>\n",
              "    <tr>\n",
              "      <th>Height</th>\n",
              "      <td>0.286272</td>\n",
              "      <td>0.765935</td>\n",
              "      <td>0.640441</td>\n",
              "      <td>0.703409</td>\n",
              "      <td>1.000000</td>\n",
              "      <td>0.792881</td>\n",
              "      <td>0.739312</td>\n",
              "      <td>0.697773</td>\n",
              "      <td>0.521330</td>\n",
              "      <td>0.598269</td>\n",
              "      <td>0.972436</td>\n",
              "    </tr>\n",
              "    <tr>\n",
              "      <th>Width</th>\n",
              "      <td>0.187936</td>\n",
              "      <td>0.868838</td>\n",
              "      <td>0.873547</td>\n",
              "      <td>0.878520</td>\n",
              "      <td>0.792881</td>\n",
              "      <td>1.000000</td>\n",
              "      <td>0.974896</td>\n",
              "      <td>0.792672</td>\n",
              "      <td>0.779722</td>\n",
              "      <td>0.795875</td>\n",
              "      <td>0.695692</td>\n",
              "    </tr>\n",
              "    <tr>\n",
              "      <th>WidthSquared</th>\n",
              "      <td>0.325975</td>\n",
              "      <td>0.835691</td>\n",
              "      <td>0.839335</td>\n",
              "      <td>0.837635</td>\n",
              "      <td>0.739312</td>\n",
              "      <td>0.974896</td>\n",
              "      <td>1.000000</td>\n",
              "      <td>0.786669</td>\n",
              "      <td>0.777181</td>\n",
              "      <td>0.785761</td>\n",
              "      <td>0.668612</td>\n",
              "    </tr>\n",
              "    <tr>\n",
              "      <th>Length1Squared</th>\n",
              "      <td>0.482760</td>\n",
              "      <td>0.978550</td>\n",
              "      <td>0.930723</td>\n",
              "      <td>0.942890</td>\n",
              "      <td>0.697773</td>\n",
              "      <td>0.792672</td>\n",
              "      <td>0.786669</td>\n",
              "      <td>1.000000</td>\n",
              "      <td>0.934417</td>\n",
              "      <td>0.959547</td>\n",
              "      <td>0.679741</td>\n",
              "    </tr>\n",
              "    <tr>\n",
              "      <th>Length2Squared</th>\n",
              "      <td>0.345760</td>\n",
              "      <td>0.918785</td>\n",
              "      <td>0.971139</td>\n",
              "      <td>0.956824</td>\n",
              "      <td>0.521330</td>\n",
              "      <td>0.779722</td>\n",
              "      <td>0.777181</td>\n",
              "      <td>0.934417</td>\n",
              "      <td>1.000000</td>\n",
              "      <td>0.993149</td>\n",
              "      <td>0.448793</td>\n",
              "    </tr>\n",
              "    <tr>\n",
              "      <th>Length3Squared</th>\n",
              "      <td>0.375002</td>\n",
              "      <td>0.947227</td>\n",
              "      <td>0.974802</td>\n",
              "      <td>0.972963</td>\n",
              "      <td>0.598269</td>\n",
              "      <td>0.795875</td>\n",
              "      <td>0.785761</td>\n",
              "      <td>0.959547</td>\n",
              "      <td>0.993149</td>\n",
              "      <td>1.000000</td>\n",
              "      <td>0.534552</td>\n",
              "    </tr>\n",
              "    <tr>\n",
              "      <th>HeightSquared</th>\n",
              "      <td>0.430172</td>\n",
              "      <td>0.719366</td>\n",
              "      <td>0.548747</td>\n",
              "      <td>0.618901</td>\n",
              "      <td>0.972436</td>\n",
              "      <td>0.695692</td>\n",
              "      <td>0.668612</td>\n",
              "      <td>0.679741</td>\n",
              "      <td>0.448793</td>\n",
              "      <td>0.534552</td>\n",
              "      <td>1.000000</td>\n",
              "    </tr>\n",
              "  </tbody>\n",
              "</table>\n",
              "</div>"
            ],
            "text/plain": [
              "                  Weight   Length1  ...  Length3Squared  HeightSquared\n",
              "Weight          1.000000  0.380629  ...        0.375002       0.430172\n",
              "Length1         0.380629  1.000000  ...        0.947227       0.719366\n",
              "Length2         0.258586  0.960991  ...        0.974802       0.548747\n",
              "Length3         0.280078  0.975891  ...        0.972963       0.618901\n",
              "Height          0.286272  0.765935  ...        0.598269       0.972436\n",
              "Width           0.187936  0.868838  ...        0.795875       0.695692\n",
              "WidthSquared    0.325975  0.835691  ...        0.785761       0.668612\n",
              "Length1Squared  0.482760  0.978550  ...        0.959547       0.679741\n",
              "Length2Squared  0.345760  0.918785  ...        0.993149       0.448793\n",
              "Length3Squared  0.375002  0.947227  ...        1.000000       0.534552\n",
              "HeightSquared   0.430172  0.719366  ...        0.534552       1.000000\n",
              "\n",
              "[11 rows x 11 columns]"
            ]
          },
          "metadata": {},
          "execution_count": 25
        }
      ]
    },
    {
      "cell_type": "code",
      "metadata": {
        "colab": {
          "base_uri": "https://localhost:8080/",
          "height": 243
        },
        "id": "KAPB3380G8rp",
        "outputId": "d46e97e5-309b-44d8-827b-ec264cb33aff"
      },
      "source": [
        "data=pd.concat([data,pd.get_dummies(data[\"Species\"],drop_first=True)],1)\n",
        "data=data.drop(['Length1','Length2','Length1Squared','Length2Squared','Species'],axis=1)\n",
        "data.head()"
      ],
      "execution_count": null,
      "outputs": [
        {
          "output_type": "execute_result",
          "data": {
            "text/html": [
              "<div>\n",
              "<style scoped>\n",
              "    .dataframe tbody tr th:only-of-type {\n",
              "        vertical-align: middle;\n",
              "    }\n",
              "\n",
              "    .dataframe tbody tr th {\n",
              "        vertical-align: top;\n",
              "    }\n",
              "\n",
              "    .dataframe thead th {\n",
              "        text-align: right;\n",
              "    }\n",
              "</style>\n",
              "<table border=\"1\" class=\"dataframe\">\n",
              "  <thead>\n",
              "    <tr style=\"text-align: right;\">\n",
              "      <th></th>\n",
              "      <th>Weight</th>\n",
              "      <th>Length3</th>\n",
              "      <th>Height</th>\n",
              "      <th>Width</th>\n",
              "      <th>WidthSquared</th>\n",
              "      <th>Length3Squared</th>\n",
              "      <th>HeightSquared</th>\n",
              "      <th>Goldfish</th>\n",
              "      <th>Parkki</th>\n",
              "      <th>Perch</th>\n",
              "      <th>Rainbow Trout</th>\n",
              "      <th>muskellunge</th>\n",
              "      <th>white bass</th>\n",
              "    </tr>\n",
              "  </thead>\n",
              "  <tbody>\n",
              "    <tr>\n",
              "      <th>0</th>\n",
              "      <td>245.0</td>\n",
              "      <td>30.0</td>\n",
              "      <td>11.5200</td>\n",
              "      <td>4.0200</td>\n",
              "      <td>16.160400</td>\n",
              "      <td>900.00</td>\n",
              "      <td>132.710400</td>\n",
              "      <td>0</td>\n",
              "      <td>0</td>\n",
              "      <td>0</td>\n",
              "      <td>1</td>\n",
              "      <td>0</td>\n",
              "      <td>0</td>\n",
              "    </tr>\n",
              "    <tr>\n",
              "      <th>1</th>\n",
              "      <td>290.0</td>\n",
              "      <td>31.2</td>\n",
              "      <td>12.4800</td>\n",
              "      <td>4.3056</td>\n",
              "      <td>18.538191</td>\n",
              "      <td>973.44</td>\n",
              "      <td>155.750400</td>\n",
              "      <td>0</td>\n",
              "      <td>0</td>\n",
              "      <td>0</td>\n",
              "      <td>1</td>\n",
              "      <td>0</td>\n",
              "      <td>0</td>\n",
              "    </tr>\n",
              "    <tr>\n",
              "      <th>2</th>\n",
              "      <td>335.0</td>\n",
              "      <td>31.1</td>\n",
              "      <td>12.3778</td>\n",
              "      <td>4.6961</td>\n",
              "      <td>22.053355</td>\n",
              "      <td>967.21</td>\n",
              "      <td>153.209933</td>\n",
              "      <td>0</td>\n",
              "      <td>0</td>\n",
              "      <td>0</td>\n",
              "      <td>1</td>\n",
              "      <td>0</td>\n",
              "      <td>0</td>\n",
              "    </tr>\n",
              "    <tr>\n",
              "      <th>3</th>\n",
              "      <td>380.0</td>\n",
              "      <td>33.5</td>\n",
              "      <td>12.7300</td>\n",
              "      <td>4.4555</td>\n",
              "      <td>19.851480</td>\n",
              "      <td>1122.25</td>\n",
              "      <td>162.052900</td>\n",
              "      <td>0</td>\n",
              "      <td>0</td>\n",
              "      <td>0</td>\n",
              "      <td>1</td>\n",
              "      <td>0</td>\n",
              "      <td>0</td>\n",
              "    </tr>\n",
              "    <tr>\n",
              "      <th>4</th>\n",
              "      <td>425.0</td>\n",
              "      <td>34.0</td>\n",
              "      <td>12.4440</td>\n",
              "      <td>5.1340</td>\n",
              "      <td>26.357956</td>\n",
              "      <td>1156.00</td>\n",
              "      <td>154.853136</td>\n",
              "      <td>0</td>\n",
              "      <td>0</td>\n",
              "      <td>0</td>\n",
              "      <td>1</td>\n",
              "      <td>0</td>\n",
              "      <td>0</td>\n",
              "    </tr>\n",
              "  </tbody>\n",
              "</table>\n",
              "</div>"
            ],
            "text/plain": [
              "   Weight  Length3   Height  ...  Rainbow Trout  muskellunge  white bass\n",
              "0   245.0     30.0  11.5200  ...              1            0           0\n",
              "1   290.0     31.2  12.4800  ...              1            0           0\n",
              "2   335.0     31.1  12.3778  ...              1            0           0\n",
              "3   380.0     33.5  12.7300  ...              1            0           0\n",
              "4   425.0     34.0  12.4440  ...              1            0           0\n",
              "\n",
              "[5 rows x 13 columns]"
            ]
          },
          "metadata": {},
          "execution_count": 26
        }
      ]
    },
    {
      "cell_type": "code",
      "metadata": {
        "id": "SJZbWewUHAZv"
      },
      "source": [
        "X=data.drop(['Weight'],axis=1).values.reshape(-1,12)\n",
        "Y=data['Weight'].values.reshape(159)"
      ],
      "execution_count": null,
      "outputs": []
    },
    {
      "cell_type": "code",
      "metadata": {
        "colab": {
          "base_uri": "https://localhost:8080/",
          "height": 709
        },
        "id": "eOz-BsirHD2j",
        "outputId": "2b0cb284-b480-4914-b105-a242fa9d9245"
      },
      "source": [
        "X = sm.add_constant(X)\n",
        "est = sm.OLS(Y, X).fit()\n",
        "est.summary()"
      ],
      "execution_count": null,
      "outputs": [
        {
          "output_type": "execute_result",
          "data": {
            "text/html": [
              "<table class=\"simpletable\">\n",
              "<caption>OLS Regression Results</caption>\n",
              "<tr>\n",
              "  <th>Dep. Variable:</th>            <td>y</td>        <th>  R-squared:         </th> <td>   0.984</td> \n",
              "</tr>\n",
              "<tr>\n",
              "  <th>Model:</th>                   <td>OLS</td>       <th>  Adj. R-squared:    </th> <td>   0.983</td> \n",
              "</tr>\n",
              "<tr>\n",
              "  <th>Method:</th>             <td>Least Squares</td>  <th>  F-statistic:       </th> <td>   746.8</td> \n",
              "</tr>\n",
              "<tr>\n",
              "  <th>Date:</th>             <td>Thu, 30 Sep 2021</td> <th>  Prob (F-statistic):</th> <td>1.78e-124</td>\n",
              "</tr>\n",
              "<tr>\n",
              "  <th>Time:</th>                 <td>09:58:19</td>     <th>  Log-Likelihood:    </th> <td> -906.65</td> \n",
              "</tr>\n",
              "<tr>\n",
              "  <th>No. Observations:</th>      <td>   159</td>      <th>  AIC:               </th> <td>   1839.</td> \n",
              "</tr>\n",
              "<tr>\n",
              "  <th>Df Residuals:</th>          <td>   146</td>      <th>  BIC:               </th> <td>   1879.</td> \n",
              "</tr>\n",
              "<tr>\n",
              "  <th>Df Model:</th>              <td>    12</td>      <th>                     </th>     <td> </td>    \n",
              "</tr>\n",
              "<tr>\n",
              "  <th>Covariance Type:</th>      <td>nonrobust</td>    <th>                     </th>     <td> </td>    \n",
              "</tr>\n",
              "</table>\n",
              "<table class=\"simpletable\">\n",
              "<tr>\n",
              "    <td></td>       <th>coef</th>     <th>std err</th>      <th>t</th>      <th>P>|t|</th>  <th>[0.025</th>    <th>0.975]</th>  \n",
              "</tr>\n",
              "<tr>\n",
              "  <th>const</th> <td> -104.8375</td> <td>  115.787</td> <td>   -0.905</td> <td> 0.367</td> <td> -333.672</td> <td>  123.997</td>\n",
              "</tr>\n",
              "<tr>\n",
              "  <th>x1</th>    <td>    3.9576</td> <td>    9.319</td> <td>    0.425</td> <td> 0.672</td> <td>  -14.461</td> <td>   22.376</td>\n",
              "</tr>\n",
              "<tr>\n",
              "  <th>x2</th>    <td> -146.5064</td> <td>   28.503</td> <td>   -5.140</td> <td> 0.000</td> <td> -202.839</td> <td>  -90.174</td>\n",
              "</tr>\n",
              "<tr>\n",
              "  <th>x3</th>    <td>   52.5651</td> <td>   59.630</td> <td>    0.882</td> <td> 0.379</td> <td>  -65.285</td> <td>  170.415</td>\n",
              "</tr>\n",
              "<tr>\n",
              "  <th>x4</th>    <td>   -2.7458</td> <td>    4.520</td> <td>   -0.608</td> <td> 0.544</td> <td>  -11.678</td> <td>    6.187</td>\n",
              "</tr>\n",
              "<tr>\n",
              "  <th>x5</th>    <td>    0.4036</td> <td>    0.078</td> <td>    5.152</td> <td> 0.000</td> <td>    0.249</td> <td>    0.558</td>\n",
              "</tr>\n",
              "<tr>\n",
              "  <th>x6</th>    <td>    9.1904</td> <td>    0.770</td> <td>   11.934</td> <td> 0.000</td> <td>    7.668</td> <td>   10.712</td>\n",
              "</tr>\n",
              "<tr>\n",
              "  <th>x7</th>    <td>  329.7462</td> <td>   89.506</td> <td>    3.684</td> <td> 0.000</td> <td>  152.852</td> <td>  506.640</td>\n",
              "</tr>\n",
              "<tr>\n",
              "  <th>x8</th>    <td>  311.0151</td> <td>   75.448</td> <td>    4.122</td> <td> 0.000</td> <td>  161.904</td> <td>  460.126</td>\n",
              "</tr>\n",
              "<tr>\n",
              "  <th>x9</th>    <td>  367.3294</td> <td>  125.174</td> <td>    2.935</td> <td> 0.004</td> <td>  119.942</td> <td>  614.716</td>\n",
              "</tr>\n",
              "<tr>\n",
              "  <th>x10</th>   <td>  230.8986</td> <td>  127.824</td> <td>    1.806</td> <td> 0.073</td> <td>  -21.727</td> <td>  483.524</td>\n",
              "</tr>\n",
              "<tr>\n",
              "  <th>x11</th>   <td> 1956.2901</td> <td>   72.309</td> <td>   27.055</td> <td> 0.000</td> <td> 1813.383</td> <td> 2099.197</td>\n",
              "</tr>\n",
              "<tr>\n",
              "  <th>x12</th>   <td>  300.9470</td> <td>   79.515</td> <td>    3.785</td> <td> 0.000</td> <td>  143.798</td> <td>  458.096</td>\n",
              "</tr>\n",
              "</table>\n",
              "<table class=\"simpletable\">\n",
              "<tr>\n",
              "  <th>Omnibus:</th>       <td> 5.878</td> <th>  Durbin-Watson:     </th> <td>   1.041</td>\n",
              "</tr>\n",
              "<tr>\n",
              "  <th>Prob(Omnibus):</th> <td> 0.053</td> <th>  Jarque-Bera (JB):  </th> <td>   8.799</td>\n",
              "</tr>\n",
              "<tr>\n",
              "  <th>Skew:</th>          <td>-0.098</td> <th>  Prob(JB):          </th> <td>  0.0123</td>\n",
              "</tr>\n",
              "<tr>\n",
              "  <th>Kurtosis:</th>      <td> 4.136</td> <th>  Cond. No.          </th> <td>5.61e+04</td>\n",
              "</tr>\n",
              "</table><br/><br/>Warnings:<br/>[1] Standard Errors assume that the covariance matrix of the errors is correctly specified.<br/>[2] The condition number is large, 5.61e+04. This might indicate that there are<br/>strong multicollinearity or other numerical problems."
            ],
            "text/plain": [
              "<class 'statsmodels.iolib.summary.Summary'>\n",
              "\"\"\"\n",
              "                            OLS Regression Results                            \n",
              "==============================================================================\n",
              "Dep. Variable:                      y   R-squared:                       0.984\n",
              "Model:                            OLS   Adj. R-squared:                  0.983\n",
              "Method:                 Least Squares   F-statistic:                     746.8\n",
              "Date:                Thu, 30 Sep 2021   Prob (F-statistic):          1.78e-124\n",
              "Time:                        09:58:19   Log-Likelihood:                -906.65\n",
              "No. Observations:                 159   AIC:                             1839.\n",
              "Df Residuals:                     146   BIC:                             1879.\n",
              "Df Model:                          12                                         \n",
              "Covariance Type:            nonrobust                                         \n",
              "==============================================================================\n",
              "                 coef    std err          t      P>|t|      [0.025      0.975]\n",
              "------------------------------------------------------------------------------\n",
              "const       -104.8375    115.787     -0.905      0.367    -333.672     123.997\n",
              "x1             3.9576      9.319      0.425      0.672     -14.461      22.376\n",
              "x2          -146.5064     28.503     -5.140      0.000    -202.839     -90.174\n",
              "x3            52.5651     59.630      0.882      0.379     -65.285     170.415\n",
              "x4            -2.7458      4.520     -0.608      0.544     -11.678       6.187\n",
              "x5             0.4036      0.078      5.152      0.000       0.249       0.558\n",
              "x6             9.1904      0.770     11.934      0.000       7.668      10.712\n",
              "x7           329.7462     89.506      3.684      0.000     152.852     506.640\n",
              "x8           311.0151     75.448      4.122      0.000     161.904     460.126\n",
              "x9           367.3294    125.174      2.935      0.004     119.942     614.716\n",
              "x10          230.8986    127.824      1.806      0.073     -21.727     483.524\n",
              "x11         1956.2901     72.309     27.055      0.000    1813.383    2099.197\n",
              "x12          300.9470     79.515      3.785      0.000     143.798     458.096\n",
              "==============================================================================\n",
              "Omnibus:                        5.878   Durbin-Watson:                   1.041\n",
              "Prob(Omnibus):                  0.053   Jarque-Bera (JB):                8.799\n",
              "Skew:                          -0.098   Prob(JB):                       0.0123\n",
              "Kurtosis:                       4.136   Cond. No.                     5.61e+04\n",
              "==============================================================================\n",
              "\n",
              "Warnings:\n",
              "[1] Standard Errors assume that the covariance matrix of the errors is correctly specified.\n",
              "[2] The condition number is large, 5.61e+04. This might indicate that there are\n",
              "strong multicollinearity or other numerical problems.\n",
              "\"\"\""
            ]
          },
          "metadata": {},
          "execution_count": 30
        }
      ]
    },
    {
      "cell_type": "code",
      "metadata": {
        "colab": {
          "base_uri": "https://localhost:8080/"
        },
        "id": "7uELRFQ3HJaF",
        "outputId": "7a67d2cc-413c-429a-fa4a-75aec3db352b"
      },
      "source": [
        "x_train, x_test, y_train, y_test = train_test_split(X, Y, test_size=0.2, random_state=1)\n",
        "reg = linear_model.LinearRegression() \n",
        "\n",
        "reg.fit(x_train, y_train) \n",
        "print('Coefficient : ', reg.coef_,' and Y-Intercept : ',reg.intercept_) "
      ],
      "execution_count": null,
      "outputs": [
        {
          "output_type": "stream",
          "name": "stdout",
          "text": [
            "Coefficient :  [ 0.00000000e+00  2.04384277e+00 -1.47316928e+02  5.34623064e+01\n",
            " -2.75921252e+00  3.96094101e-01  9.68904023e+00  2.79745808e+02\n",
            "  2.72447207e+02  3.01556395e+02  1.40988694e+02  1.91705980e+03\n",
            "  2.66091934e+02]  and Y-Intercept :  -29.313897851075126\n"
          ]
        }
      ]
    },
    {
      "cell_type": "code",
      "metadata": {
        "colab": {
          "base_uri": "https://localhost:8080/"
        },
        "id": "lwLczrJ-HPsF",
        "outputId": "b47c857c-276a-43c8-8ef0-c9bc990c7be6"
      },
      "source": [
        "y_predicted=reg.predict(x_test)\n",
        "print(\"Mean Squared error is \", mean_squared_error(y_test,y_predicted))\n",
        "print(\"R2 score is \", r2_score(y_test, y_predicted))"
      ],
      "execution_count": null,
      "outputs": [
        {
          "output_type": "stream",
          "name": "stdout",
          "text": [
            "Mean Squared error is  7749.676363888147\n",
            "R2 score is  0.975130057413185\n"
          ]
        }
      ]
    }
  ]
}